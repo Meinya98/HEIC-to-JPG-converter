from PIL import Image
import os
from pillow_heif import register_heif_opener
register_heif_opener()

os.getcwd()
os.listdir()

heic_files = [photo for photo in os.listdir() if '.heic' in photo]

for photo in heic_files:
    temp_img = Image.open(photo)
    jpg_photo = photo.replace('.heic','.jpg')
    temp_img.save(jpg_photo)
